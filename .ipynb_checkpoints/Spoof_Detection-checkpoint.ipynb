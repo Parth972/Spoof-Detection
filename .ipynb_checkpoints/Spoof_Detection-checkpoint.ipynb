{
 "cells": [
  {
   "cell_type": "code",
   "execution_count": 1,
   "metadata": {},
   "outputs": [],
   "source": [
    "from os import listdir\n",
    "from os.path import isfile, join\n",
    "from glob import glob\n",
    "import face_recognition\n",
    "from PIL import Image, ImageDraw\n",
    "import numpy as np\n",
    "import cv2\n",
    "import os\n",
    "import math"
   ]
  },
  {
   "cell_type": "code",
   "execution_count": 2,
   "metadata": {},
   "outputs": [],
   "source": [
    "#Function for creating training data\n",
    "def train_data():\n",
    "    image_name=input('Enter Name of the Image')\n",
    "    path='C:/Users/soumyaprakash/Desktop/Strike/people'\n",
    "    create(image_name,path)"
   ]
  },
  {
   "cell_type": "code",
   "execution_count": 3,
   "metadata": {},
   "outputs": [],
   "source": [
    "#Function for creating testing data\n",
    "def test_data():\n",
    "    image_name=input('Enter Name of the Image')\n",
    "    path='C:/Users/soumyaprakash/Desktop/Strike/test'\n",
    "    create(image_name,path)"
   ]
  },
  {
   "cell_type": "code",
   "execution_count": 4,
   "metadata": {},
   "outputs": [],
   "source": [
    "#OpenCV Camera Capture\n",
    "def create(img_name,path): \n",
    "    cam = cv2.VideoCapture(0)\n",
    "    cv2.namedWindow(\"test\")\n",
    "    img_counter = 0\n",
    "    while True:\n",
    "        ret, frame = cam.read()\n",
    "        cv2.imshow(\"test\", frame)\n",
    "        if not ret:\n",
    "            break\n",
    "        k = cv2.waitKey(1)\n",
    "\n",
    "        if k%256 == 27:\n",
    "            # ESC pressed\n",
    "            print(\"Escape hit, closing...\")\n",
    "            break\n",
    "        elif k%256 == 13:\n",
    "            # Enter Pressed\n",
    "            img_name = img_name.format(img_counter)\n",
    "            cv2.imwrite(os.path.join(path ,img_name),frame)\n",
    "            print(\"{} written!\".format(img_name))\n",
    "            img_counter += 1\n",
    "            break\n",
    "    cam.release()\n",
    "    cv2.destroyAllWindows()"
   ]
  },
  {
   "cell_type": "code",
   "execution_count": 5,
   "metadata": {},
   "outputs": [],
   "source": [
    "known_face_names=[] \n",
    "known_face_encodings=[]\n",
    "\n",
    "for i in glob(\"people/*.jpg\"):\n",
    "    img = face_recognition.load_image_file(i)\n",
    "    encoding = face_recognition.face_encodings(img)[0]\n",
    "    known_face_encodings.append(encoding)\n",
    "    known_face_names.append(i[7:-4])"
   ]
  },
  {
   "cell_type": "code",
   "execution_count": 6,
   "metadata": {},
   "outputs": [],
   "source": [
    "def identify(img_name): \n",
    "\n",
    "    # Load an image with an unknown face\n",
    "    unknown_image = face_recognition.load_image_file(\"test/\"+img_name)\n",
    "\n",
    "    # Find all the faces and face encodings in the unknown image\n",
    "    face_locations = face_recognition.face_locations(unknown_image)\n",
    "    face_encodings = face_recognition.face_encodings(unknown_image, face_locations)\n",
    "\n",
    "    # Convert the image to a PIL-format image so that we can draw on top of it with the Pillow library\n",
    "    pil_image = Image.fromarray(unknown_image)\n",
    "    # Create a Pillow ImageDraw Draw instance to draw with\n",
    "    draw = ImageDraw.Draw(pil_image)\n",
    "\n",
    "    # Loop through each face found in the unknown image\n",
    "    for (top, right, bottom, left), face_encoding in zip(face_locations, face_encodings):\n",
    "    \n",
    "        arr=[];\n",
    "        y=face_encoding;\n",
    "    \n",
    "        for k in known_face_encodings:    \n",
    "            sum=0\n",
    "            for i in range(0,128):\n",
    "                sum=sum+math.sqrt((k[i]-y[i])**2)\n",
    "            \n",
    "            arr.append(round(sum,1))\n",
    "    \n",
    "        value=min(arr)\n",
    "        print(value)\n",
    "        if value<=3.8:\n",
    "            name=known_face_names[arr.index(min(arr))]\n",
    "        else:\n",
    "            name='Unknown'\n",
    "            print(min(arr))\n",
    "        \n",
    "        #draw.rectangle(((left, top), (right, bottom)), outline=(0, 0, 255))\n",
    "\n",
    "        text_width, text_height = draw.textsize(name)\n",
    "        draw.rectangle(((left, bottom - text_height - 10), (right, bottom)), fill=(0, 0, 255), outline=(0, 0, 255))\n",
    "        draw.text((left + 6, bottom - text_height - 5), name, fill=(255, 255, 255, 255))\n",
    " \n",
    "        del draw\n",
    "        pil_image.show()"
   ]
  },
  {
   "cell_type": "code",
   "execution_count": 12,
   "metadata": {},
   "outputs": [
    {
     "name": "stdout",
     "output_type": "stream",
     "text": [
      "Enter Name of the Images3.jpg\n",
      "No Face Found\n",
      "No Face Found\n",
      "No Face Found\n",
      "No Face Found\n",
      "No Face Found\n",
      "s3.jpg written!\n",
      "3.4\n"
     ]
    }
   ],
   "source": [
    "import cv2\n",
    "import sys\n",
    "\n",
    "faceCascade = cv2.CascadeClassifier('haarcascade_frontalface_default.xml')\n",
    "video_capture = cv2.VideoCapture(0)\n",
    "\n",
    "img_name=input('Enter Name of the Image')\n",
    "img_counter = 0\n",
    "path='C:/Users/soumyaprakash/Desktop/Strike/test'\n",
    "counter=0\n",
    "while True:\n",
    "    # Capture frame-by-frame\n",
    "    ret, frame = video_capture.read()\n",
    "\n",
    "    gray = cv2.cvtColor(frame, cv2.COLOR_BGR2GRAY)\n",
    "\n",
    "    faces = faceCascade.detectMultiScale(\n",
    "        gray,\n",
    "        scaleFactor=1.1,\n",
    "        minNeighbors=5,\n",
    "        minSize=(30, 30),\n",
    "        flags=cv2.FONT_HERSHEY_SIMPLEX\n",
    "    )\n",
    "            \n",
    "        \n",
    "    for (x, y, w, h) in faces:\n",
    "        cv2.rectangle(frame, (x, y), (x+w, y+h), (0, 255, 0), 2)\n",
    "\n",
    "    # Display the resulting frame\n",
    "    cv2.imshow('Video', frame)\n",
    "    \n",
    "    if len(faces)==0:\n",
    "        print(\"No Face Found\")\n",
    "        counter=0\n",
    "    elif counter<100 :\n",
    "        counter=counter+1\n",
    "    else:\n",
    "        img_name = img_name.format(img_counter)\n",
    "        cv2.imwrite(os.path.join(path ,img_name),frame)\n",
    "        print(\"{} written!\".format(img_name))\n",
    "        img_counter += 1\n",
    "        break\n",
    "\n",
    "    if cv2.waitKey(1) & 0xFF == ord('q'):\n",
    "            img_name = img_name.format(img_counter)\n",
    "            cv2.imwrite(os.path.join(path ,img_name),frame)\n",
    "            print(\"{} written!\".format(img_name))\n",
    "            img_counter += 1\n",
    "            break\n",
    "\n",
    "# When everything is done, release the capture\n",
    "video_capture.release()\n",
    "cv2.destroyAllWindows()\n",
    "\n",
    "identify(img_name)"
   ]
  },
  {
   "cell_type": "code",
   "execution_count": 8,
   "metadata": {},
   "outputs": [
    {
     "name": "stdout",
     "output_type": "stream",
     "text": [
      "Enter Name of the Imagesoumya.jpg\n",
      "soumya.jpg written!\n"
     ]
    }
   ],
   "source": [
    "train_data()"
   ]
  },
  {
   "cell_type": "code",
   "execution_count": 7,
   "metadata": {},
   "outputs": [
    {
     "name": "stdout",
     "output_type": "stream",
     "text": [
      "2.3\n",
      "5.6\n",
      "5.6\n"
     ]
    },
    {
     "ename": "UnboundLocalError",
     "evalue": "local variable 'draw' referenced before assignment",
     "output_type": "error",
     "traceback": [
      "\u001b[1;31m---------------------------------------------------------------------------\u001b[0m",
      "\u001b[1;31mUnboundLocalError\u001b[0m                         Traceback (most recent call last)",
      "\u001b[1;32m<ipython-input-7-040aee1a2d7c>\u001b[0m in \u001b[0;36m<module>\u001b[1;34m\u001b[0m\n\u001b[1;32m----> 1\u001b[1;33m \u001b[0midentify\u001b[0m\u001b[1;33m(\u001b[0m\u001b[1;34m'Dhruv1.jpg'\u001b[0m\u001b[1;33m)\u001b[0m\u001b[1;33m\u001b[0m\u001b[1;33m\u001b[0m\u001b[0m\n\u001b[0m",
      "\u001b[1;32m<ipython-input-6-4d25c98b2532>\u001b[0m in \u001b[0;36midentify\u001b[1;34m(img_name)\u001b[0m\n\u001b[0;32m     34\u001b[0m             \u001b[0mprint\u001b[0m\u001b[1;33m(\u001b[0m\u001b[0mmin\u001b[0m\u001b[1;33m(\u001b[0m\u001b[0marr\u001b[0m\u001b[1;33m)\u001b[0m\u001b[1;33m)\u001b[0m\u001b[1;33m\u001b[0m\u001b[1;33m\u001b[0m\u001b[0m\n\u001b[0;32m     35\u001b[0m \u001b[1;33m\u001b[0m\u001b[0m\n\u001b[1;32m---> 36\u001b[1;33m         \u001b[0mdraw\u001b[0m\u001b[1;33m.\u001b[0m\u001b[0mrectangle\u001b[0m\u001b[1;33m(\u001b[0m\u001b[1;33m(\u001b[0m\u001b[1;33m(\u001b[0m\u001b[0mleft\u001b[0m\u001b[1;33m,\u001b[0m \u001b[0mtop\u001b[0m\u001b[1;33m)\u001b[0m\u001b[1;33m,\u001b[0m \u001b[1;33m(\u001b[0m\u001b[0mright\u001b[0m\u001b[1;33m,\u001b[0m \u001b[0mbottom\u001b[0m\u001b[1;33m)\u001b[0m\u001b[1;33m)\u001b[0m\u001b[1;33m,\u001b[0m \u001b[0moutline\u001b[0m\u001b[1;33m=\u001b[0m\u001b[1;33m(\u001b[0m\u001b[1;36m0\u001b[0m\u001b[1;33m,\u001b[0m \u001b[1;36m0\u001b[0m\u001b[1;33m,\u001b[0m \u001b[1;36m255\u001b[0m\u001b[1;33m)\u001b[0m\u001b[1;33m)\u001b[0m\u001b[1;33m\u001b[0m\u001b[1;33m\u001b[0m\u001b[0m\n\u001b[0m\u001b[0;32m     37\u001b[0m \u001b[1;33m\u001b[0m\u001b[0m\n\u001b[0;32m     38\u001b[0m         \u001b[0mtext_width\u001b[0m\u001b[1;33m,\u001b[0m \u001b[0mtext_height\u001b[0m \u001b[1;33m=\u001b[0m \u001b[0mdraw\u001b[0m\u001b[1;33m.\u001b[0m\u001b[0mtextsize\u001b[0m\u001b[1;33m(\u001b[0m\u001b[0mname\u001b[0m\u001b[1;33m)\u001b[0m\u001b[1;33m\u001b[0m\u001b[1;33m\u001b[0m\u001b[0m\n",
      "\u001b[1;31mUnboundLocalError\u001b[0m: local variable 'draw' referenced before assignment"
     ]
    }
   ],
   "source": [
    "identify('Dhruv1.jpg')"
   ]
  },
  {
   "cell_type": "code",
   "execution_count": null,
   "metadata": {},
   "outputs": [],
   "source": []
  }
 ],
 "metadata": {
  "kernelspec": {
   "display_name": "Python 3",
   "language": "python",
   "name": "python3"
  },
  "language_info": {
   "codemirror_mode": {
    "name": "ipython",
    "version": 3
   },
   "file_extension": ".py",
   "mimetype": "text/x-python",
   "name": "python",
   "nbconvert_exporter": "python",
   "pygments_lexer": "ipython3",
   "version": "3.7.4"
  }
 },
 "nbformat": 4,
 "nbformat_minor": 2
}
